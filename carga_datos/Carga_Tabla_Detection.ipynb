{
  "nbformat": 4,
  "nbformat_minor": 0,
  "metadata": {
    "colab": {
      "name": "Carga_Tabla_Detection.ipynb",
      "provenance": [],
      "collapsed_sections": []
    },
    "kernelspec": {
      "name": "python3",
      "display_name": "Python 3"
    },
    "language_info": {
      "name": "python"
    }
  },
  "cells": [
    {
      "cell_type": "markdown",
      "source": [
        "**INSTALAMOS LIBRERIAS PARA CARGA**"
      ],
      "metadata": {
        "id": "ALRxqqF0Kckt"
      }
    },
    {
      "cell_type": "code",
      "source": [
        "! pip install psycopg2\n",
        "! pip install pgdb "
      ],
      "metadata": {
        "colab": {
          "base_uri": "https://localhost:8080/"
        },
        "id": "tTy1U5U_ypby",
        "outputId": "083a56c2-513c-44e9-beb0-18ac59489383"
      },
      "execution_count": null,
      "outputs": [
        {
          "output_type": "stream",
          "name": "stdout",
          "text": [
            "Requirement already satisfied: psycopg2 in /usr/local/lib/python3.7/dist-packages (2.7.6.1)\n",
            "Collecting pgdb\n",
            "  Downloading pgdb-0.0.11.tar.gz (2.7 kB)\n",
            "Collecting psycopg2-binary>=2.8.2\n",
            "  Downloading psycopg2_binary-2.9.3-cp37-cp37m-manylinux_2_17_x86_64.manylinux2014_x86_64.whl (3.0 MB)\n",
            "\u001b[K     |████████████████████████████████| 3.0 MB 7.4 MB/s \n",
            "\u001b[?25hBuilding wheels for collected packages: pgdb\n",
            "  Building wheel for pgdb (setup.py) ... \u001b[?25l\u001b[?25hdone\n",
            "  Created wheel for pgdb: filename=pgdb-0.0.11-py3-none-any.whl size=2800 sha256=41f58b7c3f4da6b4d06ea0c657016ab952a6230dfcb3ce0bbe0ce53d85b63804\n",
            "  Stored in directory: /root/.cache/pip/wheels/ff/83/6a/8cd1726f08b2d24a023f99cdb271b156b9d61ab3771ed80e30\n",
            "Successfully built pgdb\n",
            "Installing collected packages: psycopg2-binary, pgdb\n",
            "Successfully installed pgdb-0.0.11 psycopg2-binary-2.9.3\n"
          ]
        }
      ]
    },
    {
      "cell_type": "markdown",
      "source": [
        "**ASIGNAMOS EL PROYECTO DONDE SE ENCUENTRA NUESTRA BD Y EL BUCKET DE LOS DATOS QUE SE CARGARAN**"
      ],
      "metadata": {
        "id": "BHSFMvvXKsPH"
      }
    },
    {
      "cell_type": "code",
      "source": [
        "PROJECT_ID = \"keepcoding-proyectofinal-01\" #@param {type:\"string\"}\n",
        "! gcloud config set project $PROJECT_ID"
      ],
      "metadata": {
        "colab": {
          "base_uri": "https://localhost:8080/"
        },
        "id": "FHnrjIxskf1S",
        "outputId": "b762d11b-3b56-45eb-b12a-293a63d3641c"
      },
      "execution_count": null,
      "outputs": [
        {
          "output_type": "stream",
          "name": "stdout",
          "text": [
            "Updated property [core/project].\n"
          ]
        }
      ]
    },
    {
      "cell_type": "code",
      "source": [
        "import sys\n",
        "\n",
        "# If you are running this notebook in Colab, run this cell and follow the\n",
        "# instructions to authenticate your GCP account. This provides access to your\n",
        "# Cloud Storage bucket and lets you submit training jobs and prediction\n",
        "# requests.\n",
        "\n",
        "if 'google.colab' in sys.modules:\n",
        "  from google.colab import auth as google_auth\n",
        "  google_auth.authenticate_user()\n",
        "\n",
        "# If you are running this notebook locally, replace the string below with the\n",
        "# path to your service account key and run this cell to authenticate your GCP\n",
        "# account.\n",
        "else:\n",
        "  %env GOOGLE_APPLICATION_CREDENTIALS ''"
      ],
      "metadata": {
        "id": "gd4aziQwk5af"
      },
      "execution_count": null,
      "outputs": []
    },
    {
      "cell_type": "code",
      "execution_count": null,
      "metadata": {
        "id": "hiESjK1xg22o"
      },
      "outputs": [],
      "source": [
        "BUCKET_NAME = \"kcp-bucket-01\" #@param {type:\"string\"}\n",
        "REGION = \"europe-west1\" #@param {type:\"string\"}"
      ]
    },
    {
      "cell_type": "code",
      "source": [
        "! gsutil ls -al gs://$BUCKET_NAME"
      ],
      "metadata": {
        "colab": {
          "base_uri": "https://localhost:8080/"
        },
        "id": "BHUdrnt1huDR",
        "outputId": "de729d58-4ed1-4a33-c2b9-e64323076f1e"
      },
      "execution_count": null,
      "outputs": [
        {
          "output_type": "stream",
          "name": "stdout",
          "text": [
            "                                 gs://kcp-bucket-01/datos_detection/\n",
            "                                 gs://kcp-bucket-01/datos_equivalencies/\n",
            "                                 gs://kcp-bucket-01/datos_images_out/\n",
            "                                 gs://kcp-bucket-01/datos_processed/\n",
            "                                 gs://kcp-bucket-01/datos_shopping_list/\n",
            "                                 gs://kcp-bucket-01/datos_store/\n"
          ]
        }
      ]
    },
    {
      "cell_type": "markdown",
      "source": [
        "**COPIAMOS LA CARPETA DATOS DE NUESTRO BUCKET A NUESTRO LOCAL PARA TRATARLOS ANTES DE REALIZAR LA CARGA**"
      ],
      "metadata": {
        "id": "tSDBJmdCK9yV"
      }
    },
    {
      "cell_type": "code",
      "source": [
        "! gsutil -m cp -r gs://$BUCKET_NAME/datos_detection /content/"
      ],
      "metadata": {
        "colab": {
          "base_uri": "https://localhost:8080/"
        },
        "id": "w0U1m2mitJQ1",
        "outputId": "158b0d6a-7751-4538-8ee6-69b52f1caf1a"
      },
      "execution_count": null,
      "outputs": [
        {
          "output_type": "stream",
          "name": "stdout",
          "text": [
            "Copying gs://kcp-bucket-01/datos_detection/datos_detection_Datos_Detection_20220323.csv...\n",
            "/ [0/16 files][    0.0 B/ 14.0 KiB]   0% Done                                   \rCopying gs://kcp-bucket-01/datos_detection/datos_detection_Datos_Detection_20220327.csv...\n",
            "/ [0/16 files][    0.0 B/ 14.0 KiB]   0% Done                                   \rCopying gs://kcp-bucket-01/datos_detection/datos_detection_Datos_Detection_20220326.csv...\n",
            "/ [0/16 files][    0.0 B/ 14.0 KiB]   0% Done                                   \rCopying gs://kcp-bucket-01/datos_detection/datos_detection_Datos_Detection_20220331.csv...\n",
            "/ [0/16 files][    0.0 B/ 14.0 KiB]   0% Done                                   \rCopying gs://kcp-bucket-01/datos_detection/datos_detection_Datos_Detection_20220322.csv...\n",
            "Copying gs://kcp-bucket-01/datos_detection/datos_detection_Datos_Detection_20220328.csv...\n",
            "Copying gs://kcp-bucket-01/datos_detection/datos_detection_Datos_Detection_20220324.csv...\n",
            "/ [0/16 files][    0.0 B/ 14.0 KiB]   0% Done                                   \r/ [0/16 files][    0.0 B/ 14.0 KiB]   0% Done                                   \r/ [0/16 files][    0.0 B/ 14.0 KiB]   0% Done                                   \rCopying gs://kcp-bucket-01/datos_detection/datos_detection_Datos_Detection_20220325.csv...\n",
            "Copying gs://kcp-bucket-01/datos_detection/datos_detection_Datos_Detection_20220329.csv...\n",
            "Copying gs://kcp-bucket-01/datos_detection/datos_detection_Datos_Detection_20220330.csv...\n",
            "Copying gs://kcp-bucket-01/datos_detection/datos_detection_Datos_Detection_20220401.csv...\n",
            "Copying gs://kcp-bucket-01/datos_detection/datos_detection_Datos_Detection_20220402.csv...\n",
            "Copying gs://kcp-bucket-01/datos_detection/datos_detection_Datos_Detection_20220403.csv...\n",
            "Copying gs://kcp-bucket-01/datos_detection/datos_detection_Datos_Detection_20220404.csv...\n",
            "Copying gs://kcp-bucket-01/datos_detection/datos_detection_Datos_Detection_20220408.csv...\n"
          ]
        }
      ]
    },
    {
      "cell_type": "markdown",
      "source": [
        "LEEMOS EL FICHERO CSV DE DETECTION A UN DATAFRAME"
      ],
      "metadata": {
        "id": "P9YnuMiYLr70"
      }
    },
    {
      "cell_type": "code",
      "source": [
        "import os\n",
        "import pandas as pd\n",
        "import glob\n",
        "\n",
        "files_joined = os.path.join('/content/datos_detection', '*.csv')\n",
        "list_files_store = glob.glob(files_joined)\n",
        "df_data_detection = pd.concat(map(pd.read_csv, list_files_store), ignore_index=True)"
      ],
      "metadata": {
        "id": "R2JBH16slRZL"
      },
      "execution_count": null,
      "outputs": []
    },
    {
      "cell_type": "markdown",
      "source": [
        "COMPROBAMOS LOS DATOS DEL DATAFRAME"
      ],
      "metadata": {
        "id": "2bWBwz2TMsCW"
      }
    },
    {
      "cell_type": "code",
      "source": [
        "print(df_data_detection.columns)\n",
        "df_data_detection.head()"
      ],
      "metadata": {
        "colab": {
          "base_uri": "https://localhost:8080/",
          "height": 224
        },
        "id": "uWRfscQV_2xY",
        "outputId": "7cf0ff7c-e0dc-4ab6-f733-075925a49fe7"
      },
      "execution_count": null,
      "outputs": [
        {
          "output_type": "stream",
          "name": "stdout",
          "text": [
            "Index(['id_detection', 'product', 'qty_detected', 'image_url', 'date_created'], dtype='object')\n"
          ]
        },
        {
          "output_type": "execute_result",
          "data": {
            "text/plain": [
              "   id_detection    product  qty_detected  \\\n",
              "0            42     potato             0   \n",
              "1            42     orange             2   \n",
              "2            42  pineapple             0   \n",
              "3            42      apple            11   \n",
              "4            42      lemon             0   \n",
              "\n",
              "                                           image_url  date_created  \n",
              "0  https://storage.googleapis.com/kcp-bucket-01/d...      20220402  \n",
              "1  https://storage.googleapis.com/kcp-bucket-01/d...      20220402  \n",
              "2  https://storage.googleapis.com/kcp-bucket-01/d...      20220402  \n",
              "3  https://storage.googleapis.com/kcp-bucket-01/d...      20220402  \n",
              "4  https://storage.googleapis.com/kcp-bucket-01/d...      20220402  "
            ],
            "text/html": [
              "\n",
              "  <div id=\"df-df3ff5db-9b96-458d-a0e8-fa8aa571e9ad\">\n",
              "    <div class=\"colab-df-container\">\n",
              "      <div>\n",
              "<style scoped>\n",
              "    .dataframe tbody tr th:only-of-type {\n",
              "        vertical-align: middle;\n",
              "    }\n",
              "\n",
              "    .dataframe tbody tr th {\n",
              "        vertical-align: top;\n",
              "    }\n",
              "\n",
              "    .dataframe thead th {\n",
              "        text-align: right;\n",
              "    }\n",
              "</style>\n",
              "<table border=\"1\" class=\"dataframe\">\n",
              "  <thead>\n",
              "    <tr style=\"text-align: right;\">\n",
              "      <th></th>\n",
              "      <th>id_detection</th>\n",
              "      <th>product</th>\n",
              "      <th>qty_detected</th>\n",
              "      <th>image_url</th>\n",
              "      <th>date_created</th>\n",
              "    </tr>\n",
              "  </thead>\n",
              "  <tbody>\n",
              "    <tr>\n",
              "      <th>0</th>\n",
              "      <td>42</td>\n",
              "      <td>potato</td>\n",
              "      <td>0</td>\n",
              "      <td>https://storage.googleapis.com/kcp-bucket-01/d...</td>\n",
              "      <td>20220402</td>\n",
              "    </tr>\n",
              "    <tr>\n",
              "      <th>1</th>\n",
              "      <td>42</td>\n",
              "      <td>orange</td>\n",
              "      <td>2</td>\n",
              "      <td>https://storage.googleapis.com/kcp-bucket-01/d...</td>\n",
              "      <td>20220402</td>\n",
              "    </tr>\n",
              "    <tr>\n",
              "      <th>2</th>\n",
              "      <td>42</td>\n",
              "      <td>pineapple</td>\n",
              "      <td>0</td>\n",
              "      <td>https://storage.googleapis.com/kcp-bucket-01/d...</td>\n",
              "      <td>20220402</td>\n",
              "    </tr>\n",
              "    <tr>\n",
              "      <th>3</th>\n",
              "      <td>42</td>\n",
              "      <td>apple</td>\n",
              "      <td>11</td>\n",
              "      <td>https://storage.googleapis.com/kcp-bucket-01/d...</td>\n",
              "      <td>20220402</td>\n",
              "    </tr>\n",
              "    <tr>\n",
              "      <th>4</th>\n",
              "      <td>42</td>\n",
              "      <td>lemon</td>\n",
              "      <td>0</td>\n",
              "      <td>https://storage.googleapis.com/kcp-bucket-01/d...</td>\n",
              "      <td>20220402</td>\n",
              "    </tr>\n",
              "  </tbody>\n",
              "</table>\n",
              "</div>\n",
              "      <button class=\"colab-df-convert\" onclick=\"convertToInteractive('df-df3ff5db-9b96-458d-a0e8-fa8aa571e9ad')\"\n",
              "              title=\"Convert this dataframe to an interactive table.\"\n",
              "              style=\"display:none;\">\n",
              "        \n",
              "  <svg xmlns=\"http://www.w3.org/2000/svg\" height=\"24px\"viewBox=\"0 0 24 24\"\n",
              "       width=\"24px\">\n",
              "    <path d=\"M0 0h24v24H0V0z\" fill=\"none\"/>\n",
              "    <path d=\"M18.56 5.44l.94 2.06.94-2.06 2.06-.94-2.06-.94-.94-2.06-.94 2.06-2.06.94zm-11 1L8.5 8.5l.94-2.06 2.06-.94-2.06-.94L8.5 2.5l-.94 2.06-2.06.94zm10 10l.94 2.06.94-2.06 2.06-.94-2.06-.94-.94-2.06-.94 2.06-2.06.94z\"/><path d=\"M17.41 7.96l-1.37-1.37c-.4-.4-.92-.59-1.43-.59-.52 0-1.04.2-1.43.59L10.3 9.45l-7.72 7.72c-.78.78-.78 2.05 0 2.83L4 21.41c.39.39.9.59 1.41.59.51 0 1.02-.2 1.41-.59l7.78-7.78 2.81-2.81c.8-.78.8-2.07 0-2.86zM5.41 20L4 18.59l7.72-7.72 1.47 1.35L5.41 20z\"/>\n",
              "  </svg>\n",
              "      </button>\n",
              "      \n",
              "  <style>\n",
              "    .colab-df-container {\n",
              "      display:flex;\n",
              "      flex-wrap:wrap;\n",
              "      gap: 12px;\n",
              "    }\n",
              "\n",
              "    .colab-df-convert {\n",
              "      background-color: #E8F0FE;\n",
              "      border: none;\n",
              "      border-radius: 50%;\n",
              "      cursor: pointer;\n",
              "      display: none;\n",
              "      fill: #1967D2;\n",
              "      height: 32px;\n",
              "      padding: 0 0 0 0;\n",
              "      width: 32px;\n",
              "    }\n",
              "\n",
              "    .colab-df-convert:hover {\n",
              "      background-color: #E2EBFA;\n",
              "      box-shadow: 0px 1px 2px rgba(60, 64, 67, 0.3), 0px 1px 3px 1px rgba(60, 64, 67, 0.15);\n",
              "      fill: #174EA6;\n",
              "    }\n",
              "\n",
              "    [theme=dark] .colab-df-convert {\n",
              "      background-color: #3B4455;\n",
              "      fill: #D2E3FC;\n",
              "    }\n",
              "\n",
              "    [theme=dark] .colab-df-convert:hover {\n",
              "      background-color: #434B5C;\n",
              "      box-shadow: 0px 1px 3px 1px rgba(0, 0, 0, 0.15);\n",
              "      filter: drop-shadow(0px 1px 2px rgba(0, 0, 0, 0.3));\n",
              "      fill: #FFFFFF;\n",
              "    }\n",
              "  </style>\n",
              "\n",
              "      <script>\n",
              "        const buttonEl =\n",
              "          document.querySelector('#df-df3ff5db-9b96-458d-a0e8-fa8aa571e9ad button.colab-df-convert');\n",
              "        buttonEl.style.display =\n",
              "          google.colab.kernel.accessAllowed ? 'block' : 'none';\n",
              "\n",
              "        async function convertToInteractive(key) {\n",
              "          const element = document.querySelector('#df-df3ff5db-9b96-458d-a0e8-fa8aa571e9ad');\n",
              "          const dataTable =\n",
              "            await google.colab.kernel.invokeFunction('convertToInteractive',\n",
              "                                                     [key], {});\n",
              "          if (!dataTable) return;\n",
              "\n",
              "          const docLinkHtml = 'Like what you see? Visit the ' +\n",
              "            '<a target=\"_blank\" href=https://colab.research.google.com/notebooks/data_table.ipynb>data table notebook</a>'\n",
              "            + ' to learn more about interactive tables.';\n",
              "          element.innerHTML = '';\n",
              "          dataTable['output_type'] = 'display_data';\n",
              "          await google.colab.output.renderOutput(dataTable, element);\n",
              "          const docLink = document.createElement('div');\n",
              "          docLink.innerHTML = docLinkHtml;\n",
              "          element.appendChild(docLink);\n",
              "        }\n",
              "      </script>\n",
              "    </div>\n",
              "  </div>\n",
              "  "
            ]
          },
          "metadata": {},
          "execution_count": 8
        }
      ]
    },
    {
      "cell_type": "markdown",
      "source": [
        "GENERAMOS UN NUEVO CSV CON LOS DATOS CON EL NUEVO FORMATO. APROVECHAMOS PARA QUITAR EL INDICE."
      ],
      "metadata": {
        "id": "rlk7TBOHMPOX"
      }
    },
    {
      "cell_type": "code",
      "source": [
        "df_data_detection.to_csv('/content/datos_detection/Datos_Detection_format.csv', index=False, sep=',')"
      ],
      "metadata": {
        "id": "O-iJqE9-1vIU"
      },
      "execution_count": null,
      "outputs": []
    },
    {
      "cell_type": "markdown",
      "source": [
        "**IMPORTAMOS LIBRERIAS PARA TRABAJAR CON LA CARGA DE DATOS**"
      ],
      "metadata": {
        "id": "VlasnVEJLQKi"
      }
    },
    {
      "cell_type": "code",
      "source": [
        "import psycopg2\n",
        "import pgdb"
      ],
      "metadata": {
        "id": "reLIFAbWwnsm"
      },
      "execution_count": null,
      "outputs": []
    },
    {
      "cell_type": "markdown",
      "source": [
        "**CARGA DE DATOS EN LA TABLA SHOPLIST**"
      ],
      "metadata": {
        "id": "rDySY4aSM8n9"
      }
    },
    {
      "cell_type": "code",
      "source": [
        "def cargar(path):\n",
        "    \"\"\" Conexión al servidor de pases de datos PostgreSQL \"\"\"\n",
        "    conexion = None\n",
        "    try:\n",
        "        # Conexion al servidor de PostgreSQL\n",
        "        print('Conectando a la base de datos PostgreSQL...')\n",
        "        conexion = pgdb.Connection(host=\"34.79.94.25\",database=\"proyecto\", user=\"postgres\", password=\"keepcoding\")\n",
        " \n",
        "        # creación del cursor\n",
        "        cur = conexion.cursor()\n",
        "\n",
        "        # def_table = '''\n",
        "        # DROP TABLE IF EXISTS Detection;  \n",
        "        # CREATE TABLE IF NOT EXISTS Detection\n",
        "        # (     id_detection TEXT NOT NULL,\n",
        "        #       product TEXT NOT NULL,\n",
        "        #       qty_detected NUMERIC NOT NULL,\n",
        "        #       image_url TEXT NOT NULL,\n",
        "        #       date_created DATE NOT NULL\n",
        "        # );'''\n",
        "        # cur.execute(def_table)\n",
        "        # conexion.commit()\n",
        "\n",
        "        csv_file_name = path\n",
        "        sql = \"COPY Detection FROM STDIN DELIMITER ',' CSV HEADER\"\n",
        "        cur.copy_expert(sql, open(csv_file_name, \"r\"))\n",
        "        conexion.commit()\n",
        "\n",
        "        # Cierre de la comunicación con PostgreSQL\n",
        "        cur.close()\n",
        "    except (Exception, psycopg2.DatabaseError) as error:\n",
        "        print(error)\n",
        "    finally:\n",
        "        if conexion is not None:\n",
        "            conexion.close()\n",
        "            print('Conexión finalizada.')"
      ],
      "metadata": {
        "id": "zK8ltKQC1gRy"
      },
      "execution_count": null,
      "outputs": []
    },
    {
      "cell_type": "code",
      "source": [
        "cargar('/content/datos_detection/Datos_Detection_format.csv')"
      ],
      "metadata": {
        "colab": {
          "base_uri": "https://localhost:8080/"
        },
        "id": "7nBax4Kf5ERg",
        "outputId": "a046a15b-dfd8-4861-e69e-40448ea5f5ad"
      },
      "execution_count": null,
      "outputs": [
        {
          "output_type": "stream",
          "name": "stdout",
          "text": [
            "Conectando a la base de datos PostgreSQL...\n",
            "Conexión finalizada.\n"
          ]
        }
      ]
    },
    {
      "cell_type": "markdown",
      "source": [
        "**SE MUEVEN LOS DATOS A LA CARPETA PROCESADOS**"
      ],
      "metadata": {
        "id": "WxHt77wiefa3"
      }
    },
    {
      "cell_type": "code",
      "source": [
        "! gsutil mv -r gs://$BUCKET_NAME/datos_detection gs://$BUCKET_NAME/datos_processed/"
      ],
      "metadata": {
        "colab": {
          "base_uri": "https://localhost:8080/"
        },
        "id": "xBDkEzXLVHpq",
        "outputId": "e7cf1ae8-5e5a-4919-9cf6-f82234725900"
      },
      "execution_count": null,
      "outputs": [
        {
          "output_type": "stream",
          "name": "stdout",
          "text": [
            "Copying gs://kcp-bucket-01/datos_detection/datos_detection_Datos_Detection_20220322.csv [Content-Type=text/csv]...\n",
            "Removing gs://kcp-bucket-01/datos_detection/datos_detection_Datos_Detection_20220322.csv...\n",
            "Copying gs://kcp-bucket-01/datos_detection/datos_detection_Datos_Detection_20220323.csv [Content-Type=text/csv]...\n",
            "Removing gs://kcp-bucket-01/datos_detection/datos_detection_Datos_Detection_20220323.csv...\n",
            "Copying gs://kcp-bucket-01/datos_detection/datos_detection_Datos_Detection_20220324.csv [Content-Type=text/csv]...\n",
            "Removing gs://kcp-bucket-01/datos_detection/datos_detection_Datos_Detection_20220324.csv...\n",
            "\n",
            "==> NOTE: You are performing a sequence of gsutil operations that may\n",
            "run significantly faster if you instead use gsutil -m cp ... Please\n",
            "see the -m section under \"gsutil help options\" for further information\n",
            "about when gsutil -m can be advantageous.\n",
            "\n",
            "Copying gs://kcp-bucket-01/datos_detection/datos_detection_Datos_Detection_20220325.csv [Content-Type=text/csv]...\n",
            "Removing gs://kcp-bucket-01/datos_detection/datos_detection_Datos_Detection_20220325.csv...\n",
            "Copying gs://kcp-bucket-01/datos_detection/datos_detection_Datos_Detection_20220326.csv [Content-Type=text/csv]...\n",
            "Removing gs://kcp-bucket-01/datos_detection/datos_detection_Datos_Detection_20220326.csv...\n",
            "Copying gs://kcp-bucket-01/datos_detection/datos_detection_Datos_Detection_20220327.csv [Content-Type=text/csv]...\n",
            "Removing gs://kcp-bucket-01/datos_detection/datos_detection_Datos_Detection_20220327.csv...\n",
            "Copying gs://kcp-bucket-01/datos_detection/datos_detection_Datos_Detection_20220328.csv [Content-Type=text/csv]...\n",
            "Removing gs://kcp-bucket-01/datos_detection/datos_detection_Datos_Detection_20220328.csv...\n",
            "Copying gs://kcp-bucket-01/datos_detection/datos_detection_Datos_Detection_20220329.csv [Content-Type=text/csv]...\n",
            "Removing gs://kcp-bucket-01/datos_detection/datos_detection_Datos_Detection_20220329.csv...\n",
            "Copying gs://kcp-bucket-01/datos_detection/datos_detection_Datos_Detection_20220330.csv [Content-Type=text/csv]...\n",
            "Removing gs://kcp-bucket-01/datos_detection/datos_detection_Datos_Detection_20220330.csv...\n",
            "Copying gs://kcp-bucket-01/datos_detection/datos_detection_Datos_Detection_20220331.csv [Content-Type=text/csv]...\n",
            "Removing gs://kcp-bucket-01/datos_detection/datos_detection_Datos_Detection_20220331.csv...\n",
            "Copying gs://kcp-bucket-01/datos_detection/datos_detection_Datos_Detection_20220401.csv [Content-Type=text/csv]...\n",
            "Removing gs://kcp-bucket-01/datos_detection/datos_detection_Datos_Detection_20220401.csv...\n",
            "Copying gs://kcp-bucket-01/datos_detection/datos_detection_Datos_Detection_20220402.csv [Content-Type=text/csv]...\n",
            "Removing gs://kcp-bucket-01/datos_detection/datos_detection_Datos_Detection_20220402.csv...\n",
            "Copying gs://kcp-bucket-01/datos_detection/datos_detection_Datos_Detection_20220403.csv [Content-Type=text/csv]...\n",
            "Removing gs://kcp-bucket-01/datos_detection/datos_detection_Datos_Detection_20220403.csv...\n",
            "Copying gs://kcp-bucket-01/datos_detection/datos_detection_Datos_Detection_20220404.csv [Content-Type=text/csv]...\n",
            "Removing gs://kcp-bucket-01/datos_detection/datos_detection_Datos_Detection_20220404.csv...\n",
            "Copying gs://kcp-bucket-01/datos_detection/datos_detection_Datos_Detection_20220408.csv [Content-Type=text/csv]...\n",
            "Removing gs://kcp-bucket-01/datos_detection/datos_detection_Datos_Detection_20220408.csv...\n",
            "\n",
            "Operation completed over 15 objects/14.0 KiB.                                    \n"
          ]
        }
      ]
    }
  ]
}