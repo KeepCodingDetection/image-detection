{
  "nbformat": 4,
  "nbformat_minor": 0,
  "metadata": {
    "colab": {
      "name": "Carga_Tabla_Stores.ipynb",
      "provenance": [],
      "collapsed_sections": []
    },
    "kernelspec": {
      "name": "python3",
      "display_name": "Python 3"
    },
    "language_info": {
      "name": "python"
    }
  },
  "cells": [
    {
      "cell_type": "markdown",
      "source": [
        "**INSTALAMOS LIBRERIAS PARA CARGA**"
      ],
      "metadata": {
        "id": "ALRxqqF0Kckt"
      }
    },
    {
      "cell_type": "code",
      "source": [
        "! pip install psycopg2\n",
        "! pip install pgdb "
      ],
      "metadata": {
        "colab": {
          "base_uri": "https://localhost:8080/"
        },
        "id": "tTy1U5U_ypby",
        "outputId": "39d40e83-15a8-48f4-dfd9-8ffc0fcd4d07"
      },
      "execution_count": null,
      "outputs": [
        {
          "output_type": "stream",
          "name": "stdout",
          "text": [
            "Requirement already satisfied: psycopg2 in /usr/local/lib/python3.7/dist-packages (2.7.6.1)\n",
            "Collecting pgdb\n",
            "  Downloading pgdb-0.0.11.tar.gz (2.7 kB)\n",
            "Collecting psycopg2-binary>=2.8.2\n",
            "  Downloading psycopg2_binary-2.9.3-cp37-cp37m-manylinux_2_17_x86_64.manylinux2014_x86_64.whl (3.0 MB)\n",
            "\u001b[K     |████████████████████████████████| 3.0 MB 4.5 MB/s \n",
            "\u001b[?25hBuilding wheels for collected packages: pgdb\n",
            "  Building wheel for pgdb (setup.py) ... \u001b[?25l\u001b[?25hdone\n",
            "  Created wheel for pgdb: filename=pgdb-0.0.11-py3-none-any.whl size=2800 sha256=a9f5899e6f2f07ce7bdae3842da7a72af0f9ae85dc996ce3caeee33f4aa68289\n",
            "  Stored in directory: /root/.cache/pip/wheels/ff/83/6a/8cd1726f08b2d24a023f99cdb271b156b9d61ab3771ed80e30\n",
            "Successfully built pgdb\n",
            "Installing collected packages: psycopg2-binary, pgdb\n",
            "Successfully installed pgdb-0.0.11 psycopg2-binary-2.9.3\n"
          ]
        }
      ]
    },
    {
      "cell_type": "markdown",
      "source": [
        "**ASIGNAMOS EL PROYECTO DONDE SE ENCUENTRA NUESTRA BD Y EL BUCKET DE LOS DATOS QUE SE CARGARAN**"
      ],
      "metadata": {
        "id": "BHSFMvvXKsPH"
      }
    },
    {
      "cell_type": "code",
      "source": [
        "PROJECT_ID = \"keepcoding-proyectofinal-01\" #@param {type:\"string\"}\n",
        "! gcloud config set project $PROJECT_ID"
      ],
      "metadata": {
        "colab": {
          "base_uri": "https://localhost:8080/"
        },
        "id": "FHnrjIxskf1S",
        "outputId": "6ae7ca89-4a2c-4ea8-d59c-04abdded5b50"
      },
      "execution_count": null,
      "outputs": [
        {
          "output_type": "stream",
          "name": "stdout",
          "text": [
            "Updated property [core/project].\n",
            "\n",
            "\n",
            "To take a quick anonymous survey, run:\n",
            "  $ gcloud survey\n",
            "\n"
          ]
        }
      ]
    },
    {
      "cell_type": "code",
      "source": [
        "import sys\n",
        "\n",
        "# If you are running this notebook in Colab, run this cell and follow the\n",
        "# instructions to authenticate your GCP account. This provides access to your\n",
        "# Cloud Storage bucket and lets you submit training jobs and prediction\n",
        "# requests.\n",
        "\n",
        "if 'google.colab' in sys.modules:\n",
        "  from google.colab import auth as google_auth\n",
        "  google_auth.authenticate_user()\n",
        "\n",
        "# If you are running this notebook locally, replace the string below with the\n",
        "# path to your service account key and run this cell to authenticate your GCP\n",
        "# account.\n",
        "else:\n",
        "  %env GOOGLE_APPLICATION_CREDENTIALS ''"
      ],
      "metadata": {
        "id": "gd4aziQwk5af"
      },
      "execution_count": null,
      "outputs": []
    },
    {
      "cell_type": "code",
      "execution_count": null,
      "metadata": {
        "id": "hiESjK1xg22o"
      },
      "outputs": [],
      "source": [
        "BUCKET_NAME = \"kcp-bucket-01\" #@param {type:\"string\"}\n",
        "REGION = \"europe-west1\" #@param {type:\"string\"}"
      ]
    },
    {
      "cell_type": "code",
      "source": [
        "! gsutil ls -al gs://$BUCKET_NAME"
      ],
      "metadata": {
        "colab": {
          "base_uri": "https://localhost:8080/"
        },
        "id": "BHUdrnt1huDR",
        "outputId": "3d9697a4-243b-4c53-e9ce-41ae1c50b1a2"
      },
      "execution_count": null,
      "outputs": [
        {
          "output_type": "stream",
          "name": "stdout",
          "text": [
            "                                 gs://kcp-bucket-01/datos_detection/\n",
            "                                 gs://kcp-bucket-01/datos_equivalencies/\n",
            "                                 gs://kcp-bucket-01/datos_images_out/\n",
            "                                 gs://kcp-bucket-01/datos_shopping_list/\n",
            "                                 gs://kcp-bucket-01/datos_store/\n"
          ]
        }
      ]
    },
    {
      "cell_type": "markdown",
      "source": [
        "**COPIAMOS LA CARPETA DATOS DE NUESTRO BUCKET A NUESTRO LOCAL PARA TRATARLOS ANTES DE REALIZAR LA CARGA**"
      ],
      "metadata": {
        "id": "tSDBJmdCK9yV"
      }
    },
    {
      "cell_type": "code",
      "source": [
        "! gsutil cp -r gs://$BUCKET_NAME/datos_store /content/"
      ],
      "metadata": {
        "colab": {
          "base_uri": "https://localhost:8080/"
        },
        "id": "w0U1m2mitJQ1",
        "outputId": "779c2bcb-7823-4bb5-bbe6-c9b4f55ea007"
      },
      "execution_count": null,
      "outputs": [
        {
          "output_type": "stream",
          "name": "stdout",
          "text": [
            "Copying gs://kcp-bucket-01/datos_store/supermarket_scrapping_en_04042022.xlsx...\n",
            "Copying gs://kcp-bucket-01/datos_store/supermarket_scrapping_en_07042022.xlsx...\n",
            "Copying gs://kcp-bucket-01/datos_store/supermarket_scrapping_en_22032022.xlsx...\n",
            "| [3 files][134.1 KiB/134.1 KiB]                                                \n",
            "==> NOTE: You are performing a sequence of gsutil operations that may\n",
            "run significantly faster if you instead use gsutil -m cp ... Please\n",
            "see the -m section under \"gsutil help options\" for further information\n",
            "about when gsutil -m can be advantageous.\n",
            "\n",
            "Copying gs://kcp-bucket-01/datos_store/supermarket_scrapping_en_23032022.xlsx...\n",
            "Copying gs://kcp-bucket-01/datos_store/supermarket_scrapping_en_24032022.xlsx...\n",
            "Copying gs://kcp-bucket-01/datos_store/supermarket_scrapping_en_28032022.xlsx...\n",
            "Copying gs://kcp-bucket-01/datos_store/supermarket_scrapping_en_29032022.xlsx...\n",
            "Copying gs://kcp-bucket-01/datos_store/supermarket_scrapping_en_30032022.xlsx...\n",
            "/ [8 files][350.2 KiB/350.2 KiB]   27.9 KiB/s                                   \n",
            "Operation completed over 8 objects/350.2 KiB.                                    \n"
          ]
        }
      ]
    },
    {
      "cell_type": "markdown",
      "source": [
        "LEEMOS EL FICHERO CSV DE STORES A UN DATAFRAME"
      ],
      "metadata": {
        "id": "P9YnuMiYLr70"
      }
    },
    {
      "cell_type": "code",
      "source": [
        "import os\n",
        "import pandas as pd\n",
        "import glob\n",
        "\n",
        "files_joined = os.path.join('/content/datos_store', '*.xlsx')\n",
        "list_files_store = glob.glob(files_joined)\n",
        "df_data_stores = pd.concat(map(pd.read_excel, list_files_store), ignore_index=True)"
      ],
      "metadata": {
        "id": "LsaZ3ZKlsIy8"
      },
      "execution_count": null,
      "outputs": []
    },
    {
      "cell_type": "markdown",
      "source": [
        "TRATAMOS LOS DATOS DEL DATAFRAME ANTES DE LA CARGA"
      ],
      "metadata": {
        "id": "s-6pn3Rh-OtD"
      }
    },
    {
      "cell_type": "code",
      "source": [
        "df_data_stores['Peso [gramos]'][df_data_stores['Peso [gramos]'] == 'unidad'] = 1000\n",
        "df_data_stores['Peso [gramos]'][df_data_stores['Peso [gramos]'] == 0] = 1000"
      ],
      "metadata": {
        "colab": {
          "base_uri": "https://localhost:8080/"
        },
        "id": "IulA2DVQCGoO",
        "outputId": "33653b5a-7ee5-4a29-9464-587c1a985f40"
      },
      "execution_count": null,
      "outputs": [
        {
          "output_type": "stream",
          "name": "stderr",
          "text": [
            "/usr/local/lib/python3.7/dist-packages/ipykernel_launcher.py:1: SettingWithCopyWarning: \n",
            "A value is trying to be set on a copy of a slice from a DataFrame\n",
            "\n",
            "See the caveats in the documentation: https://pandas.pydata.org/pandas-docs/stable/user_guide/indexing.html#returning-a-view-versus-a-copy\n",
            "  \"\"\"Entry point for launching an IPython kernel.\n",
            "/usr/local/lib/python3.7/dist-packages/ipykernel_launcher.py:2: SettingWithCopyWarning: \n",
            "A value is trying to be set on a copy of a slice from a DataFrame\n",
            "\n",
            "See the caveats in the documentation: https://pandas.pydata.org/pandas-docs/stable/user_guide/indexing.html#returning-a-view-versus-a-copy\n",
            "  \n"
          ]
        }
      ]
    },
    {
      "cell_type": "code",
      "source": [
        "df_data_stores = df_data_stores.dropna()"
      ],
      "metadata": {
        "id": "_Hul1jUH-Zwj"
      },
      "execution_count": null,
      "outputs": []
    },
    {
      "cell_type": "code",
      "source": [
        "df_data_stores.reset_index(drop=True, inplace=True)"
      ],
      "metadata": {
        "id": "jfgq3C-ulpUa"
      },
      "execution_count": null,
      "outputs": []
    },
    {
      "cell_type": "code",
      "source": [
        "df_data_stores['Precio/Kg'] = df_data_stores['Precio'] * 1000 / df_data_stores['Peso [gramos]']\n",
        "df_data_stores['Precio/Kg'] = pd.Series([\"{0:.2f}\".format(val) for val in df_data_stores['Precio/Kg']])"
      ],
      "metadata": {
        "id": "IBkv5eQHk_dd"
      },
      "execution_count": null,
      "outputs": []
    },
    {
      "cell_type": "markdown",
      "source": [
        "COMPROBAMOS LOS DATOS DEL DATAFRAME"
      ],
      "metadata": {
        "id": "2bWBwz2TMsCW"
      }
    },
    {
      "cell_type": "code",
      "source": [
        "print(df_data_stores.columns)\n",
        "df_data_stores.head()"
      ],
      "metadata": {
        "colab": {
          "base_uri": "https://localhost:8080/",
          "height": 258
        },
        "id": "uWRfscQV_2xY",
        "outputId": "aa7382f6-f1ef-45d7-ef09-a930bb732e7e"
      },
      "execution_count": null,
      "outputs": [
        {
          "output_type": "stream",
          "name": "stdout",
          "text": [
            "Index(['Supermercado', 'Tipo', 'Fecha', 'Categoria', 'Category',\n",
            "       'SubCategoria', 'Precio', 'Peso [gramos]', 'Precio/Kg'],\n",
            "      dtype='object')\n"
          ]
        },
        {
          "output_type": "execute_result",
          "data": {
            "text/plain": [
              "  Supermercado   Tipo      Fecha Categoria    Category SubCategoria  Precio  \\\n",
              "0    Carrefour  fruta 2022-03-24    banana      banana       granel    1.25   \n",
              "1    Carrefour  fruta 2022-03-24    fresón  strawberry      tarrina    2.29   \n",
              "2    Carrefour  fruta 2022-03-24  aguacate     avocado    carrefour    1.99   \n",
              "3    Carrefour  fruta 2022-03-24       uva       grape       blanca    2.40   \n",
              "4    Carrefour  fruta 2022-03-24   manzana       apple       golden    1.95   \n",
              "\n",
              "  Peso [gramos] Precio/Kg  \n",
              "0          1000      1.25  \n",
              "1          1000      2.29  \n",
              "2          1000      1.99  \n",
              "3          1000      2.40  \n",
              "4          1000      1.95  "
            ],
            "text/html": [
              "\n",
              "  <div id=\"df-4946aba0-7be7-43c7-839e-be4085789d4c\">\n",
              "    <div class=\"colab-df-container\">\n",
              "      <div>\n",
              "<style scoped>\n",
              "    .dataframe tbody tr th:only-of-type {\n",
              "        vertical-align: middle;\n",
              "    }\n",
              "\n",
              "    .dataframe tbody tr th {\n",
              "        vertical-align: top;\n",
              "    }\n",
              "\n",
              "    .dataframe thead th {\n",
              "        text-align: right;\n",
              "    }\n",
              "</style>\n",
              "<table border=\"1\" class=\"dataframe\">\n",
              "  <thead>\n",
              "    <tr style=\"text-align: right;\">\n",
              "      <th></th>\n",
              "      <th>Supermercado</th>\n",
              "      <th>Tipo</th>\n",
              "      <th>Fecha</th>\n",
              "      <th>Categoria</th>\n",
              "      <th>Category</th>\n",
              "      <th>SubCategoria</th>\n",
              "      <th>Precio</th>\n",
              "      <th>Peso [gramos]</th>\n",
              "      <th>Precio/Kg</th>\n",
              "    </tr>\n",
              "  </thead>\n",
              "  <tbody>\n",
              "    <tr>\n",
              "      <th>0</th>\n",
              "      <td>Carrefour</td>\n",
              "      <td>fruta</td>\n",
              "      <td>2022-03-24</td>\n",
              "      <td>banana</td>\n",
              "      <td>banana</td>\n",
              "      <td>granel</td>\n",
              "      <td>1.25</td>\n",
              "      <td>1000</td>\n",
              "      <td>1.25</td>\n",
              "    </tr>\n",
              "    <tr>\n",
              "      <th>1</th>\n",
              "      <td>Carrefour</td>\n",
              "      <td>fruta</td>\n",
              "      <td>2022-03-24</td>\n",
              "      <td>fresón</td>\n",
              "      <td>strawberry</td>\n",
              "      <td>tarrina</td>\n",
              "      <td>2.29</td>\n",
              "      <td>1000</td>\n",
              "      <td>2.29</td>\n",
              "    </tr>\n",
              "    <tr>\n",
              "      <th>2</th>\n",
              "      <td>Carrefour</td>\n",
              "      <td>fruta</td>\n",
              "      <td>2022-03-24</td>\n",
              "      <td>aguacate</td>\n",
              "      <td>avocado</td>\n",
              "      <td>carrefour</td>\n",
              "      <td>1.99</td>\n",
              "      <td>1000</td>\n",
              "      <td>1.99</td>\n",
              "    </tr>\n",
              "    <tr>\n",
              "      <th>3</th>\n",
              "      <td>Carrefour</td>\n",
              "      <td>fruta</td>\n",
              "      <td>2022-03-24</td>\n",
              "      <td>uva</td>\n",
              "      <td>grape</td>\n",
              "      <td>blanca</td>\n",
              "      <td>2.40</td>\n",
              "      <td>1000</td>\n",
              "      <td>2.40</td>\n",
              "    </tr>\n",
              "    <tr>\n",
              "      <th>4</th>\n",
              "      <td>Carrefour</td>\n",
              "      <td>fruta</td>\n",
              "      <td>2022-03-24</td>\n",
              "      <td>manzana</td>\n",
              "      <td>apple</td>\n",
              "      <td>golden</td>\n",
              "      <td>1.95</td>\n",
              "      <td>1000</td>\n",
              "      <td>1.95</td>\n",
              "    </tr>\n",
              "  </tbody>\n",
              "</table>\n",
              "</div>\n",
              "      <button class=\"colab-df-convert\" onclick=\"convertToInteractive('df-4946aba0-7be7-43c7-839e-be4085789d4c')\"\n",
              "              title=\"Convert this dataframe to an interactive table.\"\n",
              "              style=\"display:none;\">\n",
              "        \n",
              "  <svg xmlns=\"http://www.w3.org/2000/svg\" height=\"24px\"viewBox=\"0 0 24 24\"\n",
              "       width=\"24px\">\n",
              "    <path d=\"M0 0h24v24H0V0z\" fill=\"none\"/>\n",
              "    <path d=\"M18.56 5.44l.94 2.06.94-2.06 2.06-.94-2.06-.94-.94-2.06-.94 2.06-2.06.94zm-11 1L8.5 8.5l.94-2.06 2.06-.94-2.06-.94L8.5 2.5l-.94 2.06-2.06.94zm10 10l.94 2.06.94-2.06 2.06-.94-2.06-.94-.94-2.06-.94 2.06-2.06.94z\"/><path d=\"M17.41 7.96l-1.37-1.37c-.4-.4-.92-.59-1.43-.59-.52 0-1.04.2-1.43.59L10.3 9.45l-7.72 7.72c-.78.78-.78 2.05 0 2.83L4 21.41c.39.39.9.59 1.41.59.51 0 1.02-.2 1.41-.59l7.78-7.78 2.81-2.81c.8-.78.8-2.07 0-2.86zM5.41 20L4 18.59l7.72-7.72 1.47 1.35L5.41 20z\"/>\n",
              "  </svg>\n",
              "      </button>\n",
              "      \n",
              "  <style>\n",
              "    .colab-df-container {\n",
              "      display:flex;\n",
              "      flex-wrap:wrap;\n",
              "      gap: 12px;\n",
              "    }\n",
              "\n",
              "    .colab-df-convert {\n",
              "      background-color: #E8F0FE;\n",
              "      border: none;\n",
              "      border-radius: 50%;\n",
              "      cursor: pointer;\n",
              "      display: none;\n",
              "      fill: #1967D2;\n",
              "      height: 32px;\n",
              "      padding: 0 0 0 0;\n",
              "      width: 32px;\n",
              "    }\n",
              "\n",
              "    .colab-df-convert:hover {\n",
              "      background-color: #E2EBFA;\n",
              "      box-shadow: 0px 1px 2px rgba(60, 64, 67, 0.3), 0px 1px 3px 1px rgba(60, 64, 67, 0.15);\n",
              "      fill: #174EA6;\n",
              "    }\n",
              "\n",
              "    [theme=dark] .colab-df-convert {\n",
              "      background-color: #3B4455;\n",
              "      fill: #D2E3FC;\n",
              "    }\n",
              "\n",
              "    [theme=dark] .colab-df-convert:hover {\n",
              "      background-color: #434B5C;\n",
              "      box-shadow: 0px 1px 3px 1px rgba(0, 0, 0, 0.15);\n",
              "      filter: drop-shadow(0px 1px 2px rgba(0, 0, 0, 0.3));\n",
              "      fill: #FFFFFF;\n",
              "    }\n",
              "  </style>\n",
              "\n",
              "      <script>\n",
              "        const buttonEl =\n",
              "          document.querySelector('#df-4946aba0-7be7-43c7-839e-be4085789d4c button.colab-df-convert');\n",
              "        buttonEl.style.display =\n",
              "          google.colab.kernel.accessAllowed ? 'block' : 'none';\n",
              "\n",
              "        async function convertToInteractive(key) {\n",
              "          const element = document.querySelector('#df-4946aba0-7be7-43c7-839e-be4085789d4c');\n",
              "          const dataTable =\n",
              "            await google.colab.kernel.invokeFunction('convertToInteractive',\n",
              "                                                     [key], {});\n",
              "          if (!dataTable) return;\n",
              "\n",
              "          const docLinkHtml = 'Like what you see? Visit the ' +\n",
              "            '<a target=\"_blank\" href=https://colab.research.google.com/notebooks/data_table.ipynb>data table notebook</a>'\n",
              "            + ' to learn more about interactive tables.';\n",
              "          element.innerHTML = '';\n",
              "          dataTable['output_type'] = 'display_data';\n",
              "          await google.colab.output.renderOutput(dataTable, element);\n",
              "          const docLink = document.createElement('div');\n",
              "          docLink.innerHTML = docLinkHtml;\n",
              "          element.appendChild(docLink);\n",
              "        }\n",
              "      </script>\n",
              "    </div>\n",
              "  </div>\n",
              "  "
            ]
          },
          "metadata": {},
          "execution_count": 35
        }
      ]
    },
    {
      "cell_type": "markdown",
      "source": [
        "GENERAMOS UN NUEVO CSV CON LOS DATOS CON EL NUEVO FORMATO. APROVECHAMOS PARA QUITAR EL INDICE."
      ],
      "metadata": {
        "id": "rlk7TBOHMPOX"
      }
    },
    {
      "cell_type": "code",
      "source": [
        "df_data_stores.to_csv('/content/datos_store/Datos_Scrapping_Stores_format.csv', index=False, sep=',')"
      ],
      "metadata": {
        "id": "O-iJqE9-1vIU"
      },
      "execution_count": null,
      "outputs": []
    },
    {
      "cell_type": "markdown",
      "source": [
        "**IMPORTAMOS LIBRERIAS PARA TRABAJAR CON LA CARGA DE DATOS**"
      ],
      "metadata": {
        "id": "VlasnVEJLQKi"
      }
    },
    {
      "cell_type": "code",
      "source": [
        "import psycopg2\n",
        "import pgdb"
      ],
      "metadata": {
        "id": "reLIFAbWwnsm"
      },
      "execution_count": null,
      "outputs": []
    },
    {
      "cell_type": "markdown",
      "source": [
        "**CARGA DE DATOS EN LA TABLA STORES**"
      ],
      "metadata": {
        "id": "rDySY4aSM8n9"
      }
    },
    {
      "cell_type": "code",
      "source": [
        "def cargar(path):\n",
        "    \"\"\" Conexión al servidor de pases de datos PostgreSQL \"\"\"\n",
        "    conexion = None\n",
        "    try:\n",
        "        # Lectura de los parámetros de conexion\n",
        "        #params = config()\n",
        " \n",
        "        # Conexion al servidor de PostgreSQL\n",
        "        print('Conectando a la base de datos PostgreSQL...')\n",
        "        conexion = pgdb.Connection(host=\"34.79.94.25\",database=\"proyecto\", user=\"postgres\", password=\"keepcoding\")\n",
        " \n",
        "        # creación del cursor\n",
        "        cur = conexion.cursor()\n",
        "\n",
        "        # def_table = '''\n",
        "        # DROP TABLE IF EXISTS stores;  \n",
        "        # CREATE TABLE IF NOT EXISTS Stores\n",
        "        # (     supermercado TEXT NOT NULL,\n",
        "        #       tipo TEXT NOT NULL,\n",
        "        #       fecha DATE NOT NULL,\n",
        "        #       categoria TEXT NOT NULL,\n",
        "        #       category TEXT NOT NULL,\n",
        "        #       subcategoria TEXT NOT NULL,\n",
        "        #       precio NUMERIC NOT NULL,\n",
        "        #       peso_gr NUMERIC NOT NULL,\n",
        "        #       precio_kg NUMERIC NOT NULL\n",
        "        # );'''\n",
        "        # cur.execute(def_table)\n",
        "        # conexion.commit()\n",
        "\n",
        "        csv_file_name = path\n",
        "        sql = \"COPY Stores FROM STDIN DELIMITER ',' CSV HEADER\"\n",
        "        cur.copy_expert(sql, open(csv_file_name, \"r\"))\n",
        "        conexion.commit()\n",
        "\n",
        "        # Cierre de la comunicación con PostgreSQL\n",
        "        cur.close()\n",
        "    except (Exception, psycopg2.DatabaseError) as error:\n",
        "        print(error)\n",
        "    finally:\n",
        "        if conexion is not None:\n",
        "            conexion.close()\n",
        "            print('Conexión finalizada.')"
      ],
      "metadata": {
        "id": "zK8ltKQC1gRy"
      },
      "execution_count": null,
      "outputs": []
    },
    {
      "cell_type": "markdown",
      "source": [
        "LLAMAMOS A LA FUNCION DE CARGA CON EL FICHERO CORRESPONDIENTE"
      ],
      "metadata": {
        "id": "js3q5G8bRPLZ"
      }
    },
    {
      "cell_type": "code",
      "source": [
        "cargar('/content/datos_store/Datos_Scrapping_Stores_format.csv')"
      ],
      "metadata": {
        "colab": {
          "base_uri": "https://localhost:8080/"
        },
        "id": "7nBax4Kf5ERg",
        "outputId": "b2335b26-93b2-4e31-878d-733be9e1662c"
      },
      "execution_count": null,
      "outputs": [
        {
          "output_type": "stream",
          "name": "stdout",
          "text": [
            "Conectando a la base de datos PostgreSQL...\n",
            "Conexión finalizada.\n"
          ]
        }
      ]
    },
    {
      "cell_type": "markdown",
      "source": [
        "**SE MUEVEN LOS DATOS A LA CARPETA PROCESADOS**"
      ],
      "metadata": {
        "id": "-ao85JxrGafK"
      }
    },
    {
      "cell_type": "code",
      "source": [
        "! gsutil mv -r gs://$BUCKET_NAME/datos_shopping_list gs://$BUCKET_NAME/datos_processed/"
      ],
      "metadata": {
        "id": "JriTQmjXGclF"
      },
      "execution_count": null,
      "outputs": []
    }
  ]
}