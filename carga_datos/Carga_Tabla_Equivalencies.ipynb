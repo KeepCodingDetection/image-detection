{
  "nbformat": 4,
  "nbformat_minor": 0,
  "metadata": {
    "colab": {
      "name": "Carga_Tabla_Equivalencies.ipynb",
      "provenance": [],
      "collapsed_sections": []
    },
    "kernelspec": {
      "name": "python3",
      "display_name": "Python 3"
    },
    "language_info": {
      "name": "python"
    }
  },
  "cells": [
    {
      "cell_type": "markdown",
      "source": [
        "**INSTALAMOS LIBRERIAS PARA CARGA**"
      ],
      "metadata": {
        "id": "ALRxqqF0Kckt"
      }
    },
    {
      "cell_type": "code",
      "source": [
        "! pip install psycopg2\n",
        "! pip install pgdb "
      ],
      "metadata": {
        "colab": {
          "base_uri": "https://localhost:8080/"
        },
        "id": "tTy1U5U_ypby",
        "outputId": "327724f4-6c0e-4a4f-f67c-48862c3634b4"
      },
      "execution_count": null,
      "outputs": [
        {
          "output_type": "stream",
          "name": "stdout",
          "text": [
            "Requirement already satisfied: psycopg2 in /usr/local/lib/python3.7/dist-packages (2.7.6.1)\n",
            "Collecting pgdb\n",
            "  Downloading pgdb-0.0.11.tar.gz (2.7 kB)\n",
            "Collecting psycopg2-binary>=2.8.2\n",
            "  Downloading psycopg2_binary-2.9.3-cp37-cp37m-manylinux_2_17_x86_64.manylinux2014_x86_64.whl (3.0 MB)\n",
            "\u001b[K     |████████████████████████████████| 3.0 MB 14.9 MB/s \n",
            "\u001b[?25hBuilding wheels for collected packages: pgdb\n",
            "  Building wheel for pgdb (setup.py) ... \u001b[?25l\u001b[?25hdone\n",
            "  Created wheel for pgdb: filename=pgdb-0.0.11-py3-none-any.whl size=2800 sha256=f70005daee79ed0cc1ac7c92a42e5f780e2baacd3e7ce3fc9d875ee89b3ac386\n",
            "  Stored in directory: /root/.cache/pip/wheels/ff/83/6a/8cd1726f08b2d24a023f99cdb271b156b9d61ab3771ed80e30\n",
            "Successfully built pgdb\n",
            "Installing collected packages: psycopg2-binary, pgdb\n",
            "Successfully installed pgdb-0.0.11 psycopg2-binary-2.9.3\n"
          ]
        }
      ]
    },
    {
      "cell_type": "markdown",
      "source": [
        "**ASIGNAMOS EL PROYECTO DONDE SE ENCUENTRA NUESTRA BD Y EL BUCKET DE LOS DATOS QUE SE CARGARAN**"
      ],
      "metadata": {
        "id": "BHSFMvvXKsPH"
      }
    },
    {
      "cell_type": "code",
      "source": [
        "PROJECT_ID = \"keepcoding-proyectofinal-01\" #@param {type:\"string\"}\n",
        "! gcloud config set project $PROJECT_ID"
      ],
      "metadata": {
        "colab": {
          "base_uri": "https://localhost:8080/"
        },
        "id": "FHnrjIxskf1S",
        "outputId": "3a22a28a-9101-453e-d8d9-5c86ea293a51"
      },
      "execution_count": null,
      "outputs": [
        {
          "output_type": "stream",
          "name": "stdout",
          "text": [
            "Updated property [core/project].\n"
          ]
        }
      ]
    },
    {
      "cell_type": "code",
      "source": [
        "import sys\n",
        "\n",
        "# If you are running this notebook in Colab, run this cell and follow the\n",
        "# instructions to authenticate your GCP account. This provides access to your\n",
        "# Cloud Storage bucket and lets you submit training jobs and prediction\n",
        "# requests.\n",
        "\n",
        "if 'google.colab' in sys.modules:\n",
        "  from google.colab import auth as google_auth\n",
        "  google_auth.authenticate_user()\n",
        "\n",
        "# If you are running this notebook locally, replace the string below with the\n",
        "# path to your service account key and run this cell to authenticate your GCP\n",
        "# account.\n",
        "else:\n",
        "  %env GOOGLE_APPLICATION_CREDENTIALS ''"
      ],
      "metadata": {
        "id": "gd4aziQwk5af"
      },
      "execution_count": null,
      "outputs": []
    },
    {
      "cell_type": "code",
      "execution_count": null,
      "metadata": {
        "id": "hiESjK1xg22o"
      },
      "outputs": [],
      "source": [
        "BUCKET_NAME = \"kcp-bucket-01\" #@param {type:\"string\"}\n",
        "REGION = \"europe-west1\" #@param {type:\"string\"}"
      ]
    },
    {
      "cell_type": "code",
      "source": [
        "! gsutil ls -al gs://$BUCKET_NAME"
      ],
      "metadata": {
        "colab": {
          "base_uri": "https://localhost:8080/"
        },
        "id": "BHUdrnt1huDR",
        "outputId": "3ca5cbab-8a50-448b-a1ae-8a7ceecc1553"
      },
      "execution_count": null,
      "outputs": [
        {
          "output_type": "stream",
          "name": "stdout",
          "text": [
            "                                 gs://kcp-bucket-01/datos_detection/\n",
            "                                 gs://kcp-bucket-01/datos_equivalencies/\n",
            "                                 gs://kcp-bucket-01/datos_images_out/\n",
            "                                 gs://kcp-bucket-01/datos_shopping_list/\n",
            "                                 gs://kcp-bucket-01/datos_store/\n"
          ]
        }
      ]
    },
    {
      "cell_type": "markdown",
      "source": [
        "**COPIAMOS LA CARPETA DATOS DE NUESTRO BUCKET A NUESTRO LOCAL PARA TRATARLOS ANTES DE REALIZAR LA CARGA**"
      ],
      "metadata": {
        "id": "tSDBJmdCK9yV"
      }
    },
    {
      "cell_type": "code",
      "source": [
        "! gsutil cp -r gs://$BUCKET_NAME/datos_equivalencies /content/"
      ],
      "metadata": {
        "colab": {
          "base_uri": "https://localhost:8080/"
        },
        "id": "w0U1m2mitJQ1",
        "outputId": "224a2a5a-5f7a-4d85-ceb3-61fa7f4cd461"
      },
      "execution_count": null,
      "outputs": [
        {
          "output_type": "stream",
          "name": "stdout",
          "text": [
            "Copying gs://kcp-bucket-01/datos_equivalencies/Datos_Equivalencies_20220328.csv...\n",
            "/ [1 files][  213.0 B/  213.0 B]                                                \n",
            "Operation completed over 1 objects/213.0 B.                                      \n"
          ]
        }
      ]
    },
    {
      "cell_type": "markdown",
      "source": [
        "LEEMOS EL FICHERO CSV DE EQUIVALENCIES A UN DATAFRAME"
      ],
      "metadata": {
        "id": "P9YnuMiYLr70"
      }
    },
    {
      "cell_type": "code",
      "source": [
        "import pandas as pd\n",
        "\n",
        "df_data_equivalencies = pd.read_csv('/content/datos_equivalencies/Datos_Equivalencies_20220328.csv', index_col=None)"
      ],
      "metadata": {
        "id": "AOcn5FNOZFrj"
      },
      "execution_count": null,
      "outputs": []
    },
    {
      "cell_type": "markdown",
      "source": [
        "ASIGNAMOS LA FECHA DEL DIA AL CAMPO DATE_CREATED (FECHA DE CREACION)"
      ],
      "metadata": {
        "id": "MQPfBLK9MMqa"
      }
    },
    {
      "cell_type": "code",
      "source": [
        "from datetime import datetime\n",
        "\n",
        "df_data_equivalencies['date_created'] = datetime.today()"
      ],
      "metadata": {
        "id": "DTKBTCCZX8tU"
      },
      "execution_count": null,
      "outputs": []
    },
    {
      "cell_type": "markdown",
      "source": [
        "COMPROBAMOS LOS DATOS DEL DATAFRAME"
      ],
      "metadata": {
        "id": "2bWBwz2TMsCW"
      }
    },
    {
      "cell_type": "code",
      "source": [
        "print(df_data_equivalencies.columns)\n",
        "df_data_equivalencies.head()"
      ],
      "metadata": {
        "colab": {
          "base_uri": "https://localhost:8080/",
          "height": 224
        },
        "id": "uWRfscQV_2xY",
        "outputId": "29afa0c6-2649-46ae-ab71-4d9060d7c056"
      },
      "execution_count": null,
      "outputs": [
        {
          "output_type": "stream",
          "name": "stdout",
          "text": [
            "Index(['date_created', 'product', 'qty_kg', 'qty_pieces'], dtype='object')\n"
          ]
        },
        {
          "output_type": "execute_result",
          "data": {
            "text/plain": [
              "                date_created  product  qty_kg  qty_pieces\n",
              "0 2022-03-31 22:28:36.889385    lemon       1          10\n",
              "1 2022-03-31 22:28:36.889385    apple       1           6\n",
              "2 2022-03-31 22:28:36.889385  bananas       1           5\n",
              "3 2022-03-31 22:28:36.889385   carrot       1           8\n",
              "4 2022-03-31 22:28:36.889385   orange       1           6"
            ],
            "text/html": [
              "\n",
              "  <div id=\"df-36a59274-8e73-4c6f-ac9a-aa1c917da537\">\n",
              "    <div class=\"colab-df-container\">\n",
              "      <div>\n",
              "<style scoped>\n",
              "    .dataframe tbody tr th:only-of-type {\n",
              "        vertical-align: middle;\n",
              "    }\n",
              "\n",
              "    .dataframe tbody tr th {\n",
              "        vertical-align: top;\n",
              "    }\n",
              "\n",
              "    .dataframe thead th {\n",
              "        text-align: right;\n",
              "    }\n",
              "</style>\n",
              "<table border=\"1\" class=\"dataframe\">\n",
              "  <thead>\n",
              "    <tr style=\"text-align: right;\">\n",
              "      <th></th>\n",
              "      <th>date_created</th>\n",
              "      <th>product</th>\n",
              "      <th>qty_kg</th>\n",
              "      <th>qty_pieces</th>\n",
              "    </tr>\n",
              "  </thead>\n",
              "  <tbody>\n",
              "    <tr>\n",
              "      <th>0</th>\n",
              "      <td>2022-03-31 22:28:36.889385</td>\n",
              "      <td>lemon</td>\n",
              "      <td>1</td>\n",
              "      <td>10</td>\n",
              "    </tr>\n",
              "    <tr>\n",
              "      <th>1</th>\n",
              "      <td>2022-03-31 22:28:36.889385</td>\n",
              "      <td>apple</td>\n",
              "      <td>1</td>\n",
              "      <td>6</td>\n",
              "    </tr>\n",
              "    <tr>\n",
              "      <th>2</th>\n",
              "      <td>2022-03-31 22:28:36.889385</td>\n",
              "      <td>bananas</td>\n",
              "      <td>1</td>\n",
              "      <td>5</td>\n",
              "    </tr>\n",
              "    <tr>\n",
              "      <th>3</th>\n",
              "      <td>2022-03-31 22:28:36.889385</td>\n",
              "      <td>carrot</td>\n",
              "      <td>1</td>\n",
              "      <td>8</td>\n",
              "    </tr>\n",
              "    <tr>\n",
              "      <th>4</th>\n",
              "      <td>2022-03-31 22:28:36.889385</td>\n",
              "      <td>orange</td>\n",
              "      <td>1</td>\n",
              "      <td>6</td>\n",
              "    </tr>\n",
              "  </tbody>\n",
              "</table>\n",
              "</div>\n",
              "      <button class=\"colab-df-convert\" onclick=\"convertToInteractive('df-36a59274-8e73-4c6f-ac9a-aa1c917da537')\"\n",
              "              title=\"Convert this dataframe to an interactive table.\"\n",
              "              style=\"display:none;\">\n",
              "        \n",
              "  <svg xmlns=\"http://www.w3.org/2000/svg\" height=\"24px\"viewBox=\"0 0 24 24\"\n",
              "       width=\"24px\">\n",
              "    <path d=\"M0 0h24v24H0V0z\" fill=\"none\"/>\n",
              "    <path d=\"M18.56 5.44l.94 2.06.94-2.06 2.06-.94-2.06-.94-.94-2.06-.94 2.06-2.06.94zm-11 1L8.5 8.5l.94-2.06 2.06-.94-2.06-.94L8.5 2.5l-.94 2.06-2.06.94zm10 10l.94 2.06.94-2.06 2.06-.94-2.06-.94-.94-2.06-.94 2.06-2.06.94z\"/><path d=\"M17.41 7.96l-1.37-1.37c-.4-.4-.92-.59-1.43-.59-.52 0-1.04.2-1.43.59L10.3 9.45l-7.72 7.72c-.78.78-.78 2.05 0 2.83L4 21.41c.39.39.9.59 1.41.59.51 0 1.02-.2 1.41-.59l7.78-7.78 2.81-2.81c.8-.78.8-2.07 0-2.86zM5.41 20L4 18.59l7.72-7.72 1.47 1.35L5.41 20z\"/>\n",
              "  </svg>\n",
              "      </button>\n",
              "      \n",
              "  <style>\n",
              "    .colab-df-container {\n",
              "      display:flex;\n",
              "      flex-wrap:wrap;\n",
              "      gap: 12px;\n",
              "    }\n",
              "\n",
              "    .colab-df-convert {\n",
              "      background-color: #E8F0FE;\n",
              "      border: none;\n",
              "      border-radius: 50%;\n",
              "      cursor: pointer;\n",
              "      display: none;\n",
              "      fill: #1967D2;\n",
              "      height: 32px;\n",
              "      padding: 0 0 0 0;\n",
              "      width: 32px;\n",
              "    }\n",
              "\n",
              "    .colab-df-convert:hover {\n",
              "      background-color: #E2EBFA;\n",
              "      box-shadow: 0px 1px 2px rgba(60, 64, 67, 0.3), 0px 1px 3px 1px rgba(60, 64, 67, 0.15);\n",
              "      fill: #174EA6;\n",
              "    }\n",
              "\n",
              "    [theme=dark] .colab-df-convert {\n",
              "      background-color: #3B4455;\n",
              "      fill: #D2E3FC;\n",
              "    }\n",
              "\n",
              "    [theme=dark] .colab-df-convert:hover {\n",
              "      background-color: #434B5C;\n",
              "      box-shadow: 0px 1px 3px 1px rgba(0, 0, 0, 0.15);\n",
              "      filter: drop-shadow(0px 1px 2px rgba(0, 0, 0, 0.3));\n",
              "      fill: #FFFFFF;\n",
              "    }\n",
              "  </style>\n",
              "\n",
              "      <script>\n",
              "        const buttonEl =\n",
              "          document.querySelector('#df-36a59274-8e73-4c6f-ac9a-aa1c917da537 button.colab-df-convert');\n",
              "        buttonEl.style.display =\n",
              "          google.colab.kernel.accessAllowed ? 'block' : 'none';\n",
              "\n",
              "        async function convertToInteractive(key) {\n",
              "          const element = document.querySelector('#df-36a59274-8e73-4c6f-ac9a-aa1c917da537');\n",
              "          const dataTable =\n",
              "            await google.colab.kernel.invokeFunction('convertToInteractive',\n",
              "                                                     [key], {});\n",
              "          if (!dataTable) return;\n",
              "\n",
              "          const docLinkHtml = 'Like what you see? Visit the ' +\n",
              "            '<a target=\"_blank\" href=https://colab.research.google.com/notebooks/data_table.ipynb>data table notebook</a>'\n",
              "            + ' to learn more about interactive tables.';\n",
              "          element.innerHTML = '';\n",
              "          dataTable['output_type'] = 'display_data';\n",
              "          await google.colab.output.renderOutput(dataTable, element);\n",
              "          const docLink = document.createElement('div');\n",
              "          docLink.innerHTML = docLinkHtml;\n",
              "          element.appendChild(docLink);\n",
              "        }\n",
              "      </script>\n",
              "    </div>\n",
              "  </div>\n",
              "  "
            ]
          },
          "metadata": {},
          "execution_count": 12
        }
      ]
    },
    {
      "cell_type": "markdown",
      "source": [
        "GENERAMOS UN NUEVO CSV CON LOS DATOS CON EL NUEVO FORMATO. APROVECHAMOS PARA QUITAR EL INDICE."
      ],
      "metadata": {
        "id": "rlk7TBOHMPOX"
      }
    },
    {
      "cell_type": "code",
      "source": [
        "df_data_equivalencies.to_csv('/content/datos_equivalencies/Datos_Equivalencies_format.csv', index=False, sep=',')"
      ],
      "metadata": {
        "id": "O-iJqE9-1vIU"
      },
      "execution_count": null,
      "outputs": []
    },
    {
      "cell_type": "markdown",
      "source": [
        "**IMPORTAMOS LIBRERIAS PARA TRABAJAR CON LA CARGA DE DATOS**\n",
        "\n"
      ],
      "metadata": {
        "id": "VlasnVEJLQKi"
      }
    },
    {
      "cell_type": "code",
      "source": [
        "import psycopg2\n",
        "import pgdb"
      ],
      "metadata": {
        "id": "reLIFAbWwnsm"
      },
      "execution_count": null,
      "outputs": []
    },
    {
      "cell_type": "markdown",
      "source": [
        "**CARGA DE DATOS EN LA TABLA EQUIVALENCIES**"
      ],
      "metadata": {
        "id": "rDySY4aSM8n9"
      }
    },
    {
      "cell_type": "code",
      "source": [
        "def cargar(path):\n",
        "    \"\"\" Conexión al servidor de pases de datos PostgreSQL \"\"\"\n",
        "    conexion = None\n",
        "    try:\n",
        "        # Lectura de los parámetros de conexion\n",
        "        #params = config()\n",
        " \n",
        "        # Conexion al servidor de PostgreSQL\n",
        "        print('Conectando a la base de datos PostgreSQL...')\n",
        "        conexion = pgdb.Connection(host=\"34.79.94.25\",database=\"proyecto\", user=\"postgres\", password=\"keepcoding\")\n",
        " \n",
        "        # creación del cursor\n",
        "        cur = conexion.cursor()\n",
        "\n",
        "        csv_file_name = path\n",
        "        sql = \"COPY Equivalencies FROM STDIN DELIMITER ',' CSV HEADER\"\n",
        "        cur.copy_expert(sql, open(csv_file_name, \"r\"))\n",
        "        conexion.commit()\n",
        "\n",
        "        # Cierre de la comunicación con PostgreSQL\n",
        "        cur.close()\n",
        "    except (Exception, psycopg2.DatabaseError) as error:\n",
        "        print(error)\n",
        "    finally:\n",
        "        if conexion is not None:\n",
        "            conexion.close()\n",
        "            print('Conexión finalizada.')"
      ],
      "metadata": {
        "id": "zK8ltKQC1gRy"
      },
      "execution_count": null,
      "outputs": []
    },
    {
      "cell_type": "code",
      "source": [
        "cargar('/content/datos_equivalencies/Datos_Equivalencies_format.csv')"
      ],
      "metadata": {
        "colab": {
          "base_uri": "https://localhost:8080/"
        },
        "id": "7nBax4Kf5ERg",
        "outputId": "8d7008b2-90b8-42b0-8f07-3b75898908cc"
      },
      "execution_count": null,
      "outputs": [
        {
          "output_type": "stream",
          "name": "stdout",
          "text": [
            "Conectando a la base de datos PostgreSQL...\n",
            "Conexión finalizada.\n"
          ]
        }
      ]
    }
  ]
}